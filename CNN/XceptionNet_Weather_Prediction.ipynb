{
  "cells": [
    {
      "cell_type": "markdown",
      "metadata": {
        "id": "IVMJZLhJCD07"
      },
      "source": [
        ""
      ]
    },
    {
      "cell_type": "code",
      "execution_count": null,
      "metadata": {
        "id": "kEna2qT4I4sw"
      },
      "outputs": [],
      "source": [
        "import tensorflow as tf\n",
        "from tensorflow import keras\n",
        "from tensorflow.keras import layers\n",
        "import os\n",
        "import numpy as np \n",
        "import pandas as pd"
      ]
    },
    {
      "cell_type": "code",
      "execution_count": null,
      "metadata": {
        "colab": {
          "base_uri": "https://localhost:8080/"
        },
        "id": "ZHth6PjGS210",
        "outputId": "62622422-6b7e-4218-e84f-dea513bb8cc9"
      },
      "outputs": [
        {
          "name": "stdout",
          "output_type": "stream",
          "text": [
            "Mounted at /content/drive/\n"
          ]
        }
      ],
      "source": [
        "from google.colab import drive\n",
        "drive.mount('/content/drive/')"
      ]
    },
    {
      "cell_type": "code",
      "execution_count": null,
      "metadata": {
        "colab": {
          "base_uri": "https://localhost:8080/"
        },
        "id": "y1-iF27xTDc0",
        "outputId": "9f904496-c18c-4ec2-fea9-e50b572e68c8"
      },
      "outputs": [
        {
          "data": {
            "text/plain": [
              "['foggy', 'shine', 'rainy', 'cloudy', 'sunrise']"
            ]
          },
          "execution_count": 3,
          "metadata": {},
          "output_type": "execute_result"
        }
      ],
      "source": [
        "weather_path = '/content/drive/MyDrive/dataset'\n",
        "classes = os.listdir(weather_path)\n",
        "classes"
      ]
    },
    {
      "cell_type": "code",
      "execution_count": null,
      "metadata": {
        "colab": {
          "base_uri": "https://localhost:8080/"
        },
        "id": "oCByU2ktTW0b",
        "outputId": "90a572e4-8f7f-4dfd-92cc-2199059fe1d5"
      },
      "outputs": [
        {
          "name": "stdout",
          "output_type": "stream",
          "text": [
            "Found 1500 files belonging to 5 classes.\n",
            "Using 1200 files for training.\n"
          ]
        }
      ],
      "source": [
        "train_set = keras.preprocessing.image_dataset_from_directory(\n",
        "    weather_path,\n",
        "    validation_split=0.2,\n",
        "    subset=\"training\",\n",
        "    seed=1337,\n",
        "    image_size = (224,224),\n",
        "    batch_size=32,\n",
        "    label_mode='categorical',\n",
        "    class_names = classes\n",
        ")"
      ]
    },
    {
      "cell_type": "code",
      "execution_count": null,
      "metadata": {
        "colab": {
          "base_uri": "https://localhost:8080/"
        },
        "id": "qDj3GiwgT7Pw",
        "outputId": "ef7af171-43e7-4d01-97c6-411d8633ad5f"
      },
      "outputs": [
        {
          "name": "stdout",
          "output_type": "stream",
          "text": [
            "Found 1500 files belonging to 5 classes.\n",
            "Using 300 files for validation.\n"
          ]
        }
      ],
      "source": [
        "val_set = keras.preprocessing.image_dataset_from_directory(\n",
        "    weather_path,\n",
        "    validation_split=0.2,\n",
        "    subset=\"validation\",\n",
        "    seed=1337,\n",
        "    image_size = (224,224),\n",
        "    batch_size=32,\n",
        "    label_mode='categorical',\n",
        "    class_names = classes\n",
        ")"
      ]
    },
    {
      "cell_type": "code",
      "execution_count": null,
      "metadata": {
        "colab": {
          "base_uri": "https://localhost:8080/"
        },
        "id": "eLrV_AMfUAZI",
        "outputId": "c5d5cd69-122b-467a-eac4-01fe424ff7b6"
      },
      "outputs": [
        {
          "name": "stdout",
          "output_type": "stream",
          "text": [
            "Downloading data from https://storage.googleapis.com/tensorflow/keras-applications/xception/xception_weights_tf_dim_ordering_tf_kernels_notop.h5\n",
            "83689472/83683744 [==============================] - 2s 0us/step\n",
            "83697664/83683744 [==============================] - 2s 0us/step\n"
          ]
        }
      ],
      "source": [
        "input_shape=[224,224]\n",
        "pt_model = keras.applications.Xception(input_shape=input_shape+[3],weights='imagenet',include_top=False)"
      ]
    },
    {
      "cell_type": "code",
      "execution_count": null,
      "metadata": {
        "id": "pZZ2LbYvUkKz"
      },
      "outputs": [],
      "source": [
        "pt_model.summary()"
      ]
    },
    {
      "cell_type": "code",
      "execution_count": null,
      "metadata": {
        "id": "Pl69ObiWUpiJ"
      },
      "outputs": [],
      "source": [
        "from keras.layers import Dense,Flatten\n",
        "from keras.models import Model\n",
        "\n",
        "X = Flatten()(pt_model.output)"
      ]
    },
    {
      "cell_type": "code",
      "execution_count": null,
      "metadata": {
        "id": "Q1cuPl_GVuZY"
      },
      "outputs": [],
      "source": [
        "pred = Dense(5,activation=\"softmax\")(X)"
      ]
    },
    {
      "cell_type": "code",
      "execution_count": null,
      "metadata": {
        "id": "b0-3hO6vV8SA"
      },
      "outputs": [],
      "source": [
        "model = Model(inputs=pt_model.input,outputs=pred)"
      ]
    },
    {
      "cell_type": "code",
      "execution_count": null,
      "metadata": {
        "id": "svuTluHIWIX6"
      },
      "outputs": [],
      "source": [
        "model.summary()"
      ]
    },
    {
      "cell_type": "code",
      "execution_count": null,
      "metadata": {
        "id": "Ep2rATg9WLxb"
      },
      "outputs": [],
      "source": [
        "model.compile(optimizer='adam',loss='categorical_crossentropy',metrics=['accuracy'])"
      ]
    },
    {
      "cell_type": "code",
      "execution_count": null,
      "metadata": {
        "colab": {
          "background_save": true,
          "base_uri": "https://localhost:8080/"
        },
        "id": "kbvLPs4dWXi3",
        "outputId": "c68251bf-6629-46be-d9f6-17fda72c4f27"
      },
      "outputs": [
        {
          "name": "stdout",
          "output_type": "stream",
          "text": [
            "Epoch 1/2\n",
            "38/38 [==============================] - 883s 21s/step - loss: 1.0571 - accuracy: 0.7458 - val_loss: 4.4706 - val_accuracy: 0.5900\n",
            "Epoch 2/2\n",
            "38/38 [==============================] - 729s 19s/step - loss: 0.2611 - accuracy: 0.9225 - val_loss: 5.6857 - val_accuracy: 0.6367\n"
          ]
        },
        {
          "data": {
            "text/plain": [
              "<keras.callbacks.History at 0x7f5d633322d0>"
            ]
          },
          "execution_count": null,
          "metadata": {},
          "output_type": "execute_result"
        }
      ],
      "source": [
        "model.fit(train_set,batch_size=64,epochs=2,validation_data=val_set)"
      ]
    },
    {
      "cell_type": "code",
      "execution_count": null,
      "metadata": {
        "id": "LeP8JW9XZIt-"
      },
      "outputs": [],
      "source": [
        "from keras.preprocessing import image\n",
        "img = image.load_img('/content/drive/MyDrive/test_img/test_img.jpg',target_size=(224,224))"
      ]
    },
    {
      "cell_type": "code",
      "execution_count": null,
      "metadata": {
        "id": "3mwlAheqb0B6"
      },
      "outputs": [],
      "source": [
        "x = image.img_to_array(img)"
      ]
    },
    {
      "cell_type": "code",
      "execution_count": null,
      "metadata": {
        "id": "AOuXrHsGb8bm"
      },
      "outputs": [],
      "source": [
        "x"
      ]
    },
    {
      "cell_type": "code",
      "execution_count": null,
      "metadata": {
        "id": "VBmC--csb7a_"
      },
      "outputs": [],
      "source": [
        "x = np.expand_dims(x,axis=0)"
      ]
    },
    {
      "cell_type": "code",
      "execution_count": null,
      "metadata": {
        "id": "sfTPx64jcFSN"
      },
      "outputs": [],
      "source": [
        "result = model.predict(x)"
      ]
    },
    {
      "cell_type": "code",
      "execution_count": null,
      "metadata": {
        "id": "1VnN8_dycJw6"
      },
      "outputs": [],
      "source": [
        "result"
      ]
    },
    {
      "cell_type": "code",
      "execution_count": null,
      "metadata": {
        "colab": {
          "base_uri": "https://localhost:8080/",
          "height": 35
        },
        "id": "ZzX6hgvucRF3",
        "outputId": "bf4628c6-9b58-4eb9-c363-50a499e1762f"
      },
      "outputs": [
        {
          "data": {
            "application/vnd.google.colaboratory.intrinsic+json": {
              "type": "string"
            },
            "text/plain": [
              "'shine'"
            ]
          },
          "execution_count": 54,
          "metadata": {},
          "output_type": "execute_result"
        }
      ],
      "source": [
        "classes[np.argmax(result)]"
      ]
    }
  ],
  "metadata": {
    "accelerator": "GPU",
    "colab": {
      "name": "XceptionNet_Weather Prediction.ipynb",
      "provenance": []
    },
    "kernelspec": {
      "display_name": "Python 3",
      "name": "python3"
    },
    "language_info": {
      "name": "python"
    }
  },
  "nbformat": 4,
  "nbformat_minor": 0
}